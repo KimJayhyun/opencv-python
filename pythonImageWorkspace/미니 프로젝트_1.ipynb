{
 "cells": [
  {
   "cell_type": "markdown",
   "metadata": {},
   "source": [
    "# 미니 프로젝트 : 반자동 문서 스캐너"
   ]
  },
  {
   "cell_type": "markdown",
   "metadata": {},
   "source": [
    "### 마우스 이벤트 등록"
   ]
  },
  {
   "cell_type": "code",
   "execution_count": 6,
   "metadata": {},
   "outputs": [
    {
     "name": "stdout",
     "output_type": "stream",
     "text": [
      "왼쪽 버튼 누름\n",
      "204 480\n",
      "up\n",
      "204 480\n",
      "더블 클릭\n",
      "up\n",
      "204 480\n",
      "왼쪽 버튼 누름\n",
      "62 370\n",
      "up\n",
      "62 370\n"
     ]
    }
   ],
   "source": [
    "import cv2\n",
    "path = \"C:\\\\Users\\\\User\\\\Desktop\\\\code\\\\gitFolder\\\\myStudy\\\\3_OpenCV_python\\\\pythonImageWorkspace\\\\Data\"\n",
    "\n",
    "\n",
    "def mouse_handler(event, x, y, flags, param):\n",
    "    # 마우스 왼쪽 버튼 Down\n",
    "    if event == cv2.EVENT_LBUTTONDOWN:\n",
    "        print('왼쪽 버튼 누름')\n",
    "        print(x, y)\n",
    "\n",
    "    # 마우스 왼쪽 버튼 Up\n",
    "    elif event == cv2.EVENT_LBUTTONUP:\n",
    "        print('up')\n",
    "        print(x, y)\n",
    "\n",
    "    # 마우스 더블 클릭\n",
    "    elif event == cv2.EVENT_LBUTTONDBLCLK:\n",
    "        print('더블 클릭')\n",
    "\n",
    "    # 마우스 이동\n",
    "    elif event == cv2.EVENT_MOUSEMOVE:\n",
    "        pass\n",
    "        # print('움직여유우우')\n",
    "        # print(x, y)\n",
    "\n",
    "    # 마우스 오른쪽 Down\n",
    "    elif event == cv2.EVENT_RBUTTONDOWN:\n",
    "        print('오른쪽 버튼 누름')\n",
    "        print(x, y)\n",
    "    \n",
    "\n",
    "img = cv2.imread(path + '/poker.jpg')\n",
    "\n",
    "# 'title' 이름의 윈도우를 먼저 만들어 둠\n",
    "cv2.namedWindow('title')\n",
    "\n",
    "cv2.setMouseCallback('title', mouse_handler)\n",
    "\n",
    "cv2.imshow('title', img)\n",
    "cv2.waitKey(0)\n",
    "cv2.destroyAllWindows()"
   ]
  },
  {
   "cell_type": "markdown",
   "metadata": {},
   "source": [
    "프로젝트"
   ]
  },
  {
   "cell_type": "code",
   "execution_count": 20,
   "metadata": {},
   "outputs": [],
   "source": [
    "import cv2\n",
    "import numpy as np\n",
    "path = \"C:\\\\Users\\\\User\\\\Desktop\\\\code\\\\gitFolder\\\\myStudy\\\\3_OpenCV_python\\\\pythonImageWorkspace\\\\Data\"\\\n",
    "\n",
    "point_list = []\n",
    "COLOR = (255, 0, 255)\n",
    "THICKNESS = 3\n",
    "\n",
    "# 선을 그릴지 판단\n",
    "drawing = False\n",
    "\n",
    "src_img = cv2.imread(path + '/poker.jpg')\n",
    "\n",
    "def mouse_handler(event, x, y, flags, param):\n",
    "    global drawing\n",
    "\n",
    "    dst_img = src_img.copy()\n",
    "\n",
    "    if event == cv2.EVENT_LBUTTONDOWN:\n",
    "        drawing = True # 선을 그리기 시작\n",
    "        point_list.append((x,y))\n",
    "    \n",
    "    if drawing:\n",
    "        prev_point = None\n",
    "        \n",
    "        for point in point_list:\n",
    "            cv2.circle(dst_img, point, 30, COLOR, cv2.FILLED)\n",
    "            if prev_point:\n",
    "                cv2.line(dst_img, prev_point, point, COLOR, THICKNESS, cv2.LINE_AA)\n",
    "            prev_point = point\n",
    "    \n",
    "        next_point = (x, y)\n",
    "        \n",
    "        if len(point_list) == 4:\n",
    "            show_result()\n",
    "            next_point=point_list[0]\n",
    "        \n",
    "        cv2.line(dst_img, prev_point, next_point, COLOR, THICKNESS, cv2.LINE_AA)\n",
    "\n",
    "\n",
    "\n",
    "    cv2.imshow('title', dst_img)\n",
    "\n",
    "def show_result():        \n",
    "    width, height = 530, 710\n",
    "\n",
    "    # input 4개 지점    \n",
    "    src = np.float32(point_list)\n",
    "    \n",
    "    # output 4개 지점\n",
    "    dst = np.array([[0, 0], [width, 0], [width, height], [0, height]], dtype=np.float32)\n",
    "\n",
    "    matrix = cv2.getPerspectiveTransform(src, dst)\n",
    "    result = cv2.warpPerspective(src_img, matrix, (width, height))\n",
    "\n",
    "    cv2.imshow('result', result)\n",
    "\n",
    "\n",
    "\n",
    "cv2.namedWindow('title')\n",
    "cv2.setMouseCallback('title', mouse_handler)\n",
    "# cv2.imshow('title', src_img)\n",
    "cv2.waitKey(0)\n",
    "cv2.destroyAllWindows()"
   ]
  }
 ],
 "metadata": {
  "interpreter": {
   "hash": "cef9e06bb236b2a8629b07e87a04b187b952a0f661eff5533360a155783f0c33"
  },
  "kernelspec": {
   "display_name": "Python 3.9.7 ('base')",
   "language": "python",
   "name": "python3"
  },
  "language_info": {
   "codemirror_mode": {
    "name": "ipython",
    "version": 3
   },
   "file_extension": ".py",
   "mimetype": "text/x-python",
   "name": "python",
   "nbconvert_exporter": "python",
   "pygments_lexer": "ipython3",
   "version": "3.9.7"
  },
  "orig_nbformat": 4
 },
 "nbformat": 4,
 "nbformat_minor": 2
}
