{
 "cells": [
  {
   "cell_type": "markdown",
   "metadata": {},
   "source": [
    "# 4. 텍스트"
   ]
  },
  {
   "cell_type": "markdown",
   "metadata": {},
   "source": [
    "OpenCV에서 사용하는 글꼴의 종류\\\n",
    "\n",
    "1. cv2.FONT_HERSHEY_SIMPLEX : 보통 크기의 산 세리프(sans-serif) 글꼴\n",
    "2. cv2.FONT_HERSHEY_PLAIN : 작은 크기의 산 세리프 글꼴\n",
    "3. cv2.FONT_HERSHEY_SCRIPT_SIMPLEX : 필기체 스타일의 글꼴\n",
    "4. cv2.FONT_HERSHEY_TRIPLEX : 보통 크기의 세리프 글꼴\n",
    "5. cv2.FONT_ITALC : 기울임 "
   ]
  },
  {
   "cell_type": "code",
   "execution_count": 6,
   "metadata": {},
   "outputs": [],
   "source": [
    "import numpy as np\n",
    "import cv2\n",
    "\n",
    "img = np.zeros((480,640, 3), dtype=np.uint8)\n",
    "\n",
    "SCALE = 1\n",
    "COLOR = (255,255,255)\n",
    "THICKNESS = 1\n",
    "\n",
    "\n",
    "cv2.putText(img, '1. cannot use Hangul', (20,50), cv2.FONT_HERSHEY_SIMPLEX, SCALE, COLOR, THICKNESS)\n",
    "cv2.putText(img, '2. cannot use Hangul', (20,150), cv2.FONT_HERSHEY_PLAIN, SCALE, COLOR, THICKNESS)\n",
    "cv2.putText(img, '3. cannot use Hangul', (20,250), cv2.FONT_HERSHEY_SCRIPT_SIMPLEX, SCALE, COLOR, THICKNESS)\n",
    "cv2.putText(img, '4. cannot use Hangul', (20,350), cv2.FONT_HERSHEY_TRIPLEX, SCALE, COLOR, THICKNESS)\n",
    "cv2.putText(img, '5. cannot use Hangul', (20,450), cv2.FONT_HERSHEY_TRIPLEX | cv2.FONT_ITALIC, SCALE, COLOR, THICKNESS)\n",
    "\n",
    "cv2.imshow('text', img)\n",
    "cv2.waitKey(0)\n",
    "\n",
    "cv2.destroyAllWindows()\n"
   ]
  },
  {
   "cell_type": "markdown",
   "metadata": {},
   "source": [
    "한글 우회 방법"
   ]
  },
  {
   "cell_type": "code",
   "execution_count": 7,
   "metadata": {},
   "outputs": [],
   "source": [
    "import numpy as np\n",
    "import cv2\n",
    "\n",
    "img = np.zeros((480,640, 3), dtype=np.uint8)\n",
    "\n",
    "SCALE = 1\n",
    "COLOR = (255,255,255)\n",
    "THICKNESS = 1\n",
    "\n",
    "\n",
    "cv2.putText(img, '한글 안 됨', (20,50), cv2.FONT_HERSHEY_SIMPLEX, SCALE, COLOR, THICKNESS)\n",
    "\n",
    "cv2.imshow('text', img)\n",
    "cv2.waitKey(0)\n",
    "\n",
    "cv2.destroyAllWindows()\n"
   ]
  },
  {
   "cell_type": "code",
   "execution_count": 14,
   "metadata": {},
   "outputs": [],
   "source": [
    "from PIL import ImageFont, ImageDraw, Image\n",
    "# Python Image Library\n",
    "# pip install pillow\n",
    "\n",
    "def myPutText(src, text, pos, font_size, font_color):\n",
    "    img_pil = Image.fromarray(src)\n",
    "    draw = ImageDraw.Draw(img_pil)\n",
    "    font = ImageFont.truetype('fonts/gulim.ttc', font_size)\n",
    "    draw.text(pos, text, font=font, fill = font_color)\n",
    "    return np.array(img_pil)"
   ]
  },
  {
   "cell_type": "code",
   "execution_count": 15,
   "metadata": {},
   "outputs": [],
   "source": [
    "import numpy as np\n",
    "import cv2\n",
    "\n",
    "img = np.zeros((480,640, 3), dtype=np.uint8)\n",
    "\n",
    "COLOR = (255,255,255)\n",
    "FONT_SIZE = 30\n",
    "\n",
    "img = myPutText(img, '한글 됨?', (20,50), font_size = FONT_SIZE, font_color = COLOR)\n",
    "\n",
    "cv2.imshow('text', img)\n",
    "cv2.waitKey(0)\n",
    "\n",
    "cv2.destroyAllWindows()\n"
   ]
  },
  {
   "cell_type": "markdown",
   "metadata": {},
   "source": []
  }
 ],
 "metadata": {
  "interpreter": {
   "hash": "aecd030d4c8316a52bf122072e28f84bcc79844c2684e041fef2e3f1d9f59078"
  },
  "kernelspec": {
   "display_name": "Python 3.10.2 64-bit",
   "language": "python",
   "name": "python3"
  },
  "language_info": {
   "codemirror_mode": {
    "name": "ipython",
    "version": 3
   },
   "file_extension": ".py",
   "mimetype": "text/x-python",
   "name": "python",
   "nbconvert_exporter": "python",
   "pygments_lexer": "ipython3",
   "version": "3.10.2"
  },
  "orig_nbformat": 4
 },
 "nbformat": 4,
 "nbformat_minor": 2
}
