{
 "cells": [
  {
   "cell_type": "markdown",
   "metadata": {},
   "source": [
    "# 8. 이미지 대칭"
   ]
  },
  {
   "cell_type": "markdown",
   "metadata": {},
   "source": [
    "좌우 대칭"
   ]
  },
  {
   "cell_type": "code",
   "execution_count": 3,
   "metadata": {},
   "outputs": [],
   "source": [
    "import cv2\n",
    "path = \"C:\\\\Users\\\\User\\\\Desktop\\\\code\\\\gitFolder\\\\myStudy\\\\3_OpenCV_python\\\\pythonImageWorkspace\\\\Data\"\n",
    "\n",
    "img = cv2.imread(path + '/img.jpg')\n",
    "\n",
    "# filpCode > 0 : 좌우 대칭 Horizontals\n",
    "filp_horizontal = cv2.flip(img, 1)\n",
    "\n",
    "cv2.imshow('origin', img)\n",
    "cv2.imshow('title', filp_horizontal)\n",
    "\n",
    "cv2.waitKey(0)\n",
    "cv2.destroyAllWindows()\n"
   ]
  },
  {
   "cell_type": "markdown",
   "metadata": {},
   "source": [
    "상하 대칭"
   ]
  },
  {
   "cell_type": "code",
   "execution_count": 4,
   "metadata": {},
   "outputs": [],
   "source": [
    "import cv2\n",
    "path = \"C:\\\\Users\\\\User\\\\Desktop\\\\code\\\\gitFolder\\\\myStudy\\\\3_OpenCV_python\\\\pythonImageWorkspace\\\\Data\"\n",
    "\n",
    "img = cv2.imread(path + '/img.jpg')\n",
    "\n",
    "# filpCode = 0 : 상하 대칭 vertical\n",
    "flip_vertical = cv2.flip(img, 0)\n",
    "\n",
    "cv2.imshow('origin', img)\n",
    "cv2.imshow('title', flip_vertical)\n",
    "\n",
    "cv2.waitKey(0)\n",
    "cv2.destroyAllWindows()\n"
   ]
  },
  {
   "cell_type": "markdown",
   "metadata": {},
   "source": [
    "상하좌우 대칭"
   ]
  },
  {
   "cell_type": "code",
   "execution_count": 2,
   "metadata": {},
   "outputs": [],
   "source": [
    "import cv2\n",
    "path = \"C:\\\\Users\\\\User\\\\Desktop\\\\code\\\\gitFolder\\\\myStudy\\\\3_OpenCV_python\\\\pythonImageWorkspace\\\\Data\"\n",
    "\n",
    "img = cv2.imread(path + '/img.jpg')\n",
    "\n",
    "# filpCode < 0 : 상하좌우 대칭\n",
    "filp_all = cv2.flip(img, -1)\n",
    "\n",
    "cv2.imshow('origin', img)\n",
    "cv2.imshow('title', filp_all)\n",
    "\n",
    "cv2.waitKey(0)\n",
    "cv2.destroyAllWindows()\n"
   ]
  }
 ],
 "metadata": {
  "interpreter": {
   "hash": "cef9e06bb236b2a8629b07e87a04b187b952a0f661eff5533360a155783f0c33"
  },
  "kernelspec": {
   "display_name": "Python 3.9.7 ('base')",
   "language": "python",
   "name": "python3"
  },
  "language_info": {
   "codemirror_mode": {
    "name": "ipython",
    "version": 3
   },
   "file_extension": ".py",
   "mimetype": "text/x-python",
   "name": "python",
   "nbconvert_exporter": "python",
   "pygments_lexer": "ipython3",
   "version": "3.9.7"
  },
  "orig_nbformat": 4
 },
 "nbformat": 4,
 "nbformat_minor": 2
}
