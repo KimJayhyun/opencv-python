{
 "cells": [
  {
   "cell_type": "markdown",
   "metadata": {},
   "source": [
    "# 18. 이미지 검출(윤곽선)\n",
    "\n",
    "### 윤곽선(Contour) \n",
    "경계선을 연결한 선"
   ]
  },
  {
   "cell_type": "code",
   "execution_count": 2,
   "metadata": {},
   "outputs": [],
   "source": [
    "import cv2\n",
    "path = \"C:\\\\Users\\\\User\\\\Desktop\\\\code\\\\gitFolder\\\\myStudy\\\\3_OpenCV_python\\\\pythonImageWorkspace\\\\Data\"\n",
    "\n",
    "img = cv2.imread(path + '/card.png')\n",
    "\n",
    "target_img = img.copy() # 사본 이미지\n",
    "\n",
    "gray = cv2.cvtColor(img, cv2.COLOR_BGR2GRAY)\n",
    "ret, otsu = cv2.threshold(gray, -1, 255, cv2.THRESH_BINARY | cv2.THRESH_OTSU)\n",
    "\n",
    "# 윤곽선 정보, 구조\n",
    "contours, hierachy = cv2.findContours(otsu, cv2.RETR_LIST, cv2.CHAIN_APPROX_NONE)\n",
    "#                                     이미지, 윤곽선 찾는 모드, 윤곽선 찾는 근사치 방법\n",
    "\n",
    "\n",
    "COLOR = (0, 200, 0) # 녹색\n",
    "cv2.drawContours(target_img, contours, -1, COLOR, 2)\n",
    "# 그릴 장소, 윤곽선 정보, 인덱스(-1이면 전체), 색깔, 두께\n",
    "\n",
    "cv2.imshow('title', img)\n",
    "cv2.imshow('gray', gray)\n",
    "cv2.imshow('otsu', otsu)\n",
    "cv2.imshow('contours', target_img)\n",
    "\n",
    "cv2.waitKey(0)\n",
    "cv2.destroyAllWindows()"
   ]
  },
  {
   "cell_type": "markdown",
   "metadata": {},
   "source": [
    "### 윤곽선 찾기 모드\n",
    "1. cv2.RETR_EXTERNAL : 가장 외곽의 윤곽선만 찾음\n",
    "1. cv2.RETR_LIST     : 모든 윤곽선 찾음(계층 정보 없음)\n",
    "1. cv2.RETR_TREE     : 모든 윤곽선 찾음(계층 정보를 트리 구조로 생성)"
   ]
  },
  {
   "cell_type": "code",
   "execution_count": null,
   "metadata": {},
   "outputs": [],
   "source": [
    "import cv2\n",
    "path = \"C:\\\\Users\\\\User\\\\Desktop\\\\code\\\\gitFolder\\\\myStudy\\\\3_OpenCV_python\\\\pythonImageWorkspace\\\\Data\"\n",
    "\n",
    "img = cv2.imread(path + '/card.png')\n",
    "\n",
    "target_img = img.copy() # 사본 이미지\n",
    "\n",
    "gray = cv2.cvtColor(img, cv2.COLOR_BGR2GRAY)\n",
    "ret, otsu = cv2.threshold(gray, -1, 255, cv2.THRESH_BINARY | cv2.THRESH_OTSU)\n",
    "\n",
    "contours, hierachy = cv2.findContours(otsu, cv2.RETR_EXTERNAL, cv2.CHAIN_APPROX_NONE)\n",
    "# contours, hierachy = cv2.findContours(otsu, cv2.RETR_LIST, cv2.CHAIN_APPROX_NONE)\n",
    "# contours, hierachy = cv2.findContours(otsu, cv2.RETR_TREE, cv2.CHAIN_APPROX_NONE)\n",
    "#                                                            cv2.CHAIN_APPROX_SIMPLE\n",
    "\n",
    "# print(hierachy)\n",
    "# print(f'층 발견 개수 : {len(contours)}')\n",
    "\n",
    "COLOR = (0, 200, 0) # 녹색\n",
    "cv2.drawContours(target_img, contours, -1, COLOR, 2)\n",
    "# 그릴 장소, 윤곽선 정보, 인덱스(-1이면 전체), 색깔, 두께\n",
    "\n",
    "cv2.imshow('title', img)\n",
    "cv2.imshow('gray', gray)\n",
    "cv2.imshow('otsu', otsu)\n",
    "cv2.imshow('contours', target_img)\n",
    "\n",
    "cv2.waitKey(0)\n",
    "cv2.destroyAllWindows()"
   ]
  },
  {
   "cell_type": "markdown",
   "metadata": {},
   "source": [
    "## 경계 사각형\n",
    "윤곽선의 경계면을 둘러싸는 사각형\n",
    "> boundingRect()"
   ]
  },
  {
   "cell_type": "code",
   "execution_count": 7,
   "metadata": {},
   "outputs": [],
   "source": [
    "import cv2\n",
    "path = \"C:\\\\Users\\\\User\\\\Desktop\\\\code\\\\gitFolder\\\\myStudy\\\\3_OpenCV_python\\\\pythonImageWorkspace\\\\Data\"\n",
    "\n",
    "img = cv2.imread(path + '/card.png')\n",
    "\n",
    "target_img = img.copy() # 사본 이미지\n",
    "\n",
    "gray = cv2.cvtColor(img, cv2.COLOR_BGR2GRAY)\n",
    "ret, otsu = cv2.threshold(gray, -1, 255, cv2.THRESH_BINARY | cv2.THRESH_OTSU)\n",
    "\n",
    "contours, hierachy = cv2.findContours(otsu, cv2.RETR_LIST, cv2.CHAIN_APPROX_NONE)\n",
    "\n",
    "\n",
    "COLOR = (0, 200, 0) # 녹색\n",
    "\n",
    "for cnt in contours:\n",
    "    x, y, width, height = cv2.boundingRect(cnt)\n",
    "    cv2.rectangle(target_img, (x, y), (x + width, y + height), COLOR, 2)\n",
    "\n",
    "cv2.imshow('title', img)\n",
    "cv2.imshow('contours', target_img)\n",
    "\n",
    "cv2.waitKey(0)\n",
    "cv2.destroyAllWindows()"
   ]
  },
  {
   "cell_type": "markdown",
   "metadata": {},
   "source": [
    "## 면적\n",
    "> contourArea()"
   ]
  },
  {
   "cell_type": "code",
   "execution_count": 8,
   "metadata": {},
   "outputs": [],
   "source": [
    "import cv2\n",
    "path = \"C:\\\\Users\\\\User\\\\Desktop\\\\code\\\\gitFolder\\\\myStudy\\\\3_OpenCV_python\\\\pythonImageWorkspace\\\\Data\"\n",
    "\n",
    "img = cv2.imread(path + '/card.png')\n",
    "\n",
    "target_img = img.copy() # 사본 이미지\n",
    "\n",
    "gray = cv2.cvtColor(img, cv2.COLOR_BGR2GRAY)\n",
    "ret, otsu = cv2.threshold(gray, -1, 255, cv2.THRESH_BINARY | cv2.THRESH_OTSU)\n",
    "\n",
    "contours, hierachy = cv2.findContours(otsu, cv2.RETR_LIST, cv2.CHAIN_APPROX_NONE)\n",
    "\n",
    "\n",
    "COLOR = (0, 200, 0) # 녹색\n",
    "\n",
    "for cnt in contours:\n",
    "    if cv2.contourArea(cnt) > 25000:\n",
    "        x, y, width, height = cv2.boundingRect(cnt)\n",
    "        cv2.rectangle(target_img, (x, y), (x + width, y + height), COLOR, 2)\n",
    "\n",
    "\n",
    "cv2.imshow('title', img)\n",
    "cv2.imshow('contours', target_img)\n",
    "\n",
    "cv2.waitKey(0)\n",
    "cv2.destroyAllWindows()"
   ]
  }
 ],
 "metadata": {
  "interpreter": {
   "hash": "cef9e06bb236b2a8629b07e87a04b187b952a0f661eff5533360a155783f0c33"
  },
  "kernelspec": {
   "display_name": "Python 3.9.7 ('base')",
   "language": "python",
   "name": "python3"
  },
  "language_info": {
   "codemirror_mode": {
    "name": "ipython",
    "version": 3
   },
   "file_extension": ".py",
   "mimetype": "text/x-python",
   "name": "python",
   "nbconvert_exporter": "python",
   "pygments_lexer": "ipython3",
   "version": "3.9.7"
  },
  "orig_nbformat": 4
 },
 "nbformat": 4,
 "nbformat_minor": 2
}
